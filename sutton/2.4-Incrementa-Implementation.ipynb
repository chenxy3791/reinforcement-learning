{
 "cells": [
  {
   "cell_type": "markdown",
   "metadata": {},
   "source": [
    "# RLbook2020-2.4 Incremental implementation\n",
    "\n",
    "Several update based on RLbook-2.3-ten-armed-testbed:\n",
    "* Package smooth() and movingaverage() into utilities.py\n",
    "* Q update in accordance to 2.4-incremental implementation\n"
   ]
  },
  {
   "cell_type": "code",
   "execution_count": 2,
   "metadata": {},
   "outputs": [
    {
     "name": "stderr",
     "output_type": "stream",
     "text": [
      "In C:\\Users\\chenxy\\Anaconda3\\lib\\site-packages\\matplotlib\\mpl-data\\stylelib\\_classic_test.mplstyle: \n",
      "The text.latex.preview rcparam was deprecated in Matplotlib 3.3 and will be removed two minor releases later.\n",
      "In C:\\Users\\chenxy\\Anaconda3\\lib\\site-packages\\matplotlib\\mpl-data\\stylelib\\_classic_test.mplstyle: \n",
      "The mathtext.fallback_to_cm rcparam was deprecated in Matplotlib 3.3 and will be removed two minor releases later.\n",
      "In C:\\Users\\chenxy\\Anaconda3\\lib\\site-packages\\matplotlib\\mpl-data\\stylelib\\_classic_test.mplstyle: Support for setting the 'mathtext.fallback_to_cm' rcParam is deprecated since 3.3 and will be removed two minor releases later; use 'mathtext.fallback : 'cm' instead.\n",
      "In C:\\Users\\chenxy\\Anaconda3\\lib\\site-packages\\matplotlib\\mpl-data\\stylelib\\_classic_test.mplstyle: \n",
      "The validate_bool_maybe_none function was deprecated in Matplotlib 3.3 and will be removed two minor releases later.\n",
      "In C:\\Users\\chenxy\\Anaconda3\\lib\\site-packages\\matplotlib\\mpl-data\\stylelib\\_classic_test.mplstyle: \n",
      "The savefig.jpeg_quality rcparam was deprecated in Matplotlib 3.3 and will be removed two minor releases later.\n",
      "In C:\\Users\\chenxy\\Anaconda3\\lib\\site-packages\\matplotlib\\mpl-data\\stylelib\\_classic_test.mplstyle: \n",
      "The keymap.all_axes rcparam was deprecated in Matplotlib 3.3 and will be removed two minor releases later.\n",
      "In C:\\Users\\chenxy\\Anaconda3\\lib\\site-packages\\matplotlib\\mpl-data\\stylelib\\_classic_test.mplstyle: \n",
      "The animation.avconv_path rcparam was deprecated in Matplotlib 3.3 and will be removed two minor releases later.\n",
      "In C:\\Users\\chenxy\\Anaconda3\\lib\\site-packages\\matplotlib\\mpl-data\\stylelib\\_classic_test.mplstyle: \n",
      "The animation.avconv_args rcparam was deprecated in Matplotlib 3.3 and will be removed two minor releases later.\n"
     ]
    }
   ],
   "source": [
    "import numpy as np\n",
    "import matplotlib.pyplot as plt\n",
    "import utilities as util\n",
    "\n",
    "%load_ext autoreload\n",
    "%autoreload 2\n",
    "\n",
    "%matplotlib inline"
   ]
  },
  {
   "cell_type": "code",
   "execution_count": 1,
   "metadata": {},
   "outputs": [],
   "source": [
    "#print(util.smooth(np.array([1,2,3,4,5,6,7,8,9]),3))\n",
    "#a = np.array([1,2,3,4,5,6,7,8,9])\n",
    "#winsize=3\n",
    "#print(util.movingaverage1(a,winsize))"
   ]
  },
  {
   "cell_type": "code",
   "execution_count": 10,
   "metadata": {},
   "outputs": [],
   "source": [
    "def k_armed_bandit_one_run(qstar,epsilon,nStep):\n",
    "    \"\"\"\n",
    "    One run of K-armed bandit simulation.\n",
    "    \"\"\"\n",
    "    \n",
    "    K = len(qstar)\n",
    "    Q     = np.zeros(K)\n",
    "    a     = np.zeros(nStep+1,dtype='int') # Item#0 for initialization\n",
    "    aNum  = np.zeros(K,dtype='int')       # Record the number of action#k being selected\n",
    "    \n",
    "    r     = np.zeros(nStep+1)             # Item#0 for initialization\n",
    "    \n",
    "    optAct   = np.argmax(qstar)\n",
    "    optCnt   = 0\n",
    "    optRatio = np.zeros(nStep+1,dtype='float') # Item#0 for initialization\n",
    "\n",
    "    for t in range(1,nStep+1):\n",
    "\n",
    "        #1. action selection\n",
    "        tmp = np.random.uniform(0,1)\n",
    "        #print(tmp)\n",
    "        if tmp < epsilon: # random selection\n",
    "            a[t] = np.random.choice(np.arange(K))\n",
    "            #print('random selection: a[{0}] = {1}'.format(t,a[t]))\n",
    "        else:             # greedy selection\n",
    "            #选择Q值最大的那个，当多个Q值并列第一时，从中任选一个--但是如何判断有多个并列第一的呢？\n",
    "            #对Q进行random permutation处理后再找最大值可以等价地解决这个问题\n",
    "            p = np.random.permutation(K)\n",
    "            a[t] = p[np.argmax(Q[p])]\n",
    "            #print('greedy selection: a[{0}] = {1}'.format(t,a[t]))\n",
    "\n",
    "        aNum[a[t]] = aNum[a[t]] + 1\n",
    "\n",
    "        #2. reward: draw from the pre-defined probability distribution    \n",
    "        r[t] = np.random.randn() + qstar[a[t]]        \n",
    "\n",
    "        #3.Update Q of the selected action - #2.4 Incremental Implementation\n",
    "        # Q[a[t]] = (Q[a[t]]*(aNum[a[t]]-1) + r[t])/aNum[a[t]]    \n",
    "        Q[a[t]] = Q[a[t]] + (r[t]-Q[a[t]])/aNum[a[t]]    \n",
    "        \n",
    "        #4. Optimal Action Ratio tracking\n",
    "        #print(a[t], optAct)\n",
    "        if a[t] == optAct:\n",
    "            optCnt = optCnt + 1\n",
    "        optRatio[t] = optCnt/t\n",
    "        \n",
    "    return a,aNum,r,Q,optRatio"
   ]
  },
  {
   "cell_type": "markdown",
   "metadata": {},
   "source": [
    "The true value $q_*(a)$ of\n",
    "each of the ten actions was selected according to a normal distribution with mean zero and unit\n",
    "variance.\n",
    "\n",
    "The actual rewards were selected according to a mean $q_*(a)$, unit-variance\n",
    "normal distribution"
   ]
  },
  {
   "cell_type": "code",
   "execution_count": 11,
   "metadata": {},
   "outputs": [],
   "source": [
    "nStep = 1000\n",
    "epsilon = 0.1\n",
    "qstar   = np.random.randn(10)\n",
    "a,aNum,r,Q,optRatio = k_armed_bandit_one_run(qstar,epsilon,nStep)"
   ]
  },
  {
   "cell_type": "code",
   "execution_count": 15,
   "metadata": {},
   "outputs": [
    {
     "name": "stdout",
     "output_type": "stream",
     "text": [
      "[ 0.16111225 -0.39938991 -0.27680107 -1.02229555 -0.15604446  0.40076632\n",
      "  1.08065473 -0.56532994  0.74491396  0.0241192 ]\n",
      "[ 0.19855862 -0.73066747 -0.64588391 -1.06414046  0.12208474  0.10264844\n",
      "  1.08441286 -0.06596296  0.95257293 -0.03285218]\n",
      "(array([ 19,  10,  14,  11,  14,  20, 879,   8,   7,  19], dtype=int64), array([0. , 0.9, 1.8, 2.7, 3.6, 4.5, 5.4, 6.3, 7.2, 8.1, 9. ]))\n"
     ]
    }
   ],
   "source": [
    "print(qstar)\n",
    "print(Q)\n",
    "print(np.histogram(a))"
   ]
  },
  {
   "cell_type": "code",
   "execution_count": 16,
   "metadata": {},
   "outputs": [
    {
     "data": {
      "text/plain": [
       "[<matplotlib.lines.Line2D at 0x2e138ff5860>]"
      ]
     },
     "execution_count": 16,
     "metadata": {},
     "output_type": "execute_result"
    },
    {
     "data": {
      "image/png": "[encoded data removed]",
      "text/plain": [
       "<Figure size 432x288 with 1 Axes>"
      ]
     },
     "metadata": {},
     "output_type": "display_data"
    }
   ],
   "source": [
    "plt.plot(optRatio)"
   ]
  },
  {
   "cell_type": "markdown",
   "metadata": {},
   "source": [
    "## Q value vs qstar\n",
    "\n",
    "Q[k]代表所有采取行动k的reward的平均，而qstar[k]代表行动k的reward的数学期望。当$nStep\\to\\infty$时应该有$Q[k]\\to q_*[k]$."
   ]
  },
  {
   "cell_type": "code",
   "execution_count": 17,
   "metadata": {},
   "outputs": [
    {
     "data": {
      "text/plain": [
       "<matplotlib.collections.PathCollection at 0x2e13907b0b8>"
      ]
     },
     "execution_count": 17,
     "metadata": {},
     "output_type": "execute_result"
    },
    {
     "data": {
      "image/png": "[encoded data removed]",
      "text/plain": [
       "<Figure size 432x288 with 1 Axes>"
      ]
     },
     "metadata": {},
     "output_type": "display_data"
    }
   ],
   "source": [
    "plt.scatter(qstar,Q)"
   ]
  },
  {
   "cell_type": "markdown",
   "metadata": {},
   "source": [
    "## Number of actions vs qstar\n",
    "\n",
    "aNum[k]代表所有采取action#k被选择的次数，而qstar[k]代表action#k的reward的数学期望。当$nStep\\to\\infty$时理论上来说应该有reward期望越高的行动被选择的次数越多。但是与$Q[k]\\propto q_*[k]$不同，各action被选择的次数应该遵循马太效应，即最后应该集中在最高q值的action或最高的几个actions上\n",
    "不过从实验结果来看，并不一定是q值最高的action被选择次数最高"
   ]
  },
  {
   "cell_type": "code",
   "execution_count": 18,
   "metadata": {},
   "outputs": [
    {
     "data": {
      "text/plain": [
       "<matplotlib.collections.PathCollection at 0x2e1390d2da0>"
      ]
     },
     "execution_count": 18,
     "metadata": {},
     "output_type": "execute_result"
    },
    {
     "data": {
      "image/png": "[encoded data removed]",
      "text/plain": [
       "<Figure size 432x288 with 1 Axes>"
      ]
     },
     "metadata": {},
     "output_type": "display_data"
    }
   ],
   "source": [
    "plt.scatter(qstar,aNum)"
   ]
  },
  {
   "cell_type": "markdown",
   "metadata": {},
   "source": [
    "## Comparison between different epsilon\n",
    "* 仿真控制参数\n",
    "    * number of steps\n",
    "    * number of run\n",
    "    * K: The number of candidate actions    \n",
    "* Input:\n",
    "    * qstar[K]\n",
    "    * epsilon: greedy factor $\\epsilon$\n",
    "* Output:\n",
    "    * a[t]: action series for each step in one run\n",
    "    * r[t]: reward series for each step in one run\n",
    "    * Q[k]: reward sample average up to t-1 for action[k].\n",
    "Note!!!: qstar randonmization should be put inside the outer loop to make each run representing a different bandit problem."
   ]
  },
  {
   "cell_type": "code",
   "execution_count": 19,
   "metadata": {},
   "outputs": [
    {
     "name": "stdout",
     "output_type": "stream",
     "text": [
      "....................................................................................................run =  100\n",
      "....................................................................................................run =  200\n",
      "....................................................................................................run =  300\n",
      "....................................................................................................run =  400\n",
      "....................................................................................................run =  500\n",
      "....................................................................................................run =  600\n",
      "....................................................................................................run =  700\n",
      "....................................................................................................run =  800\n",
      "....................................................................................................run =  900\n",
      "....................................................................................................run =  1000\n",
      "....................................................................................................run =  1100\n",
      "....................................................................................................run =  1200\n",
      "....................................................................................................run =  1300\n",
      "....................................................................................................run =  1400\n",
      "....................................................................................................run =  1500\n",
      "....................................................................................................run =  1600\n",
      "....................................................................................................run =  1700\n",
      "....................................................................................................run =  1800\n",
      "....................................................................................................run =  1900\n",
      "....................................................................................................run =  2000\n"
     ]
    }
   ],
   "source": [
    "nStep = 1000\n",
    "nRun  = 2000\n",
    "#qstar   = np.random.randn(10) \n",
    "\n",
    "r_0p0   = np.zeros((nRun,nStep+1))\n",
    "r_0p1   = np.zeros((nRun,nStep+1))\n",
    "r_0p01  = np.zeros((nRun,nStep+1))\n",
    "optRatio_0p0 = np.zeros((nRun,nStep+1))\n",
    "optRatio_0p1 = np.zeros((nRun,nStep+1))\n",
    "optRatio_0p01= np.zeros((nRun,nStep+1))\n",
    "\n",
    "for run in range(nRun):\n",
    "    print('.',end='')\n",
    "    if run%100==99:        \n",
    "        print('run = ',run+1)\n",
    "    \n",
    "    qstar   = np.random.randn(10) \n",
    "    a,aNum,r_0p0[run,:],Q,optRatio_0p0[run,:] = k_armed_bandit_one_run(qstar,epsilon=0,nStep=nStep)\n",
    "    a,aNum,r_0p1[run,:],Q,optRatio_0p1[run,:] = k_armed_bandit_one_run(qstar,epsilon=0.1,nStep=nStep)\n",
    "    a,aNum,r_0p01[run,:],Q,optRatio_0p01[run,:] = k_armed_bandit_one_run(qstar,epsilon=0.01,nStep=nStep)\n"
   ]
  },
  {
   "cell_type": "markdown",
   "metadata": {},
   "source": [
    "## Average Reward"
   ]
  },
  {
   "cell_type": "code",
   "execution_count": 21,
   "metadata": {},
   "outputs": [
    {
     "data": {
      "text/plain": [
       "<matplotlib.legend.Legend at 0x2e13ed54630>"
      ]
     },
     "execution_count": 21,
     "metadata": {},
     "output_type": "execute_result"
    },
    {
     "data": {
      "image/png": "[encoded data removed]",
      "text/plain": [
       "<Figure size 432x288 with 1 Axes>"
      ]
     },
     "metadata": {},
     "output_type": "display_data"
    }
   ],
   "source": [
    "rEnsembleMean_0p0 = np.mean(r_0p0,axis=0)\n",
    "rEnsembleMean_0p1 = np.mean(r_0p1,axis=0)\n",
    "rEnsembleMean_0p01 = np.mean(r_0p01,axis=0)\n",
    "#plt.plot(rEnsembleMean)\n",
    "plt.plot(util.smooth(rEnsembleMean_0p0,11))\n",
    "plt.plot(util.smooth(rEnsembleMean_0p1,11))\n",
    "plt.plot(util.smooth(rEnsembleMean_0p01,11))\n",
    "plt.legend(['epsilon = 0','epsilon = 0.1','epsilon = 0.01'])"
   ]
  },
  {
   "cell_type": "markdown",
   "metadata": {},
   "source": [
    "## Optimal Action\n",
    "Optimal Action是指对应于$q_*$中期望值最高的那个。In the above simulation, $q_*$ is re-initialized for each run. Hence, in simulation, the optimal action counting must be tracked in each run in a cumulative way."
   ]
  },
  {
   "cell_type": "code",
   "execution_count": 22,
   "metadata": {},
   "outputs": [
    {
     "data": {
      "text/plain": [
       "<matplotlib.legend.Legend at 0x2e13edca828>"
      ]
     },
     "execution_count": 22,
     "metadata": {},
     "output_type": "execute_result"
    },
    {
     "data": {
      "image/png": "[encoded data removed]",
      "text/plain": [
       "<Figure size 432x288 with 1 Axes>"
      ]
     },
     "metadata": {},
     "output_type": "display_data"
    }
   ],
   "source": [
    "optRatioEnsembleMean_0p0 = np.mean(optRatio_0p0,axis=0)\n",
    "optRatioEnsembleMean_0p1 = np.mean(optRatio_0p1,axis=0)\n",
    "optRatioEnsembleMean_0p01 = np.mean(optRatio_0p01,axis=0)\n",
    "#plt.plot(rEnsembleMean)\n",
    "plt.plot(util.smooth(optRatioEnsembleMean_0p0,11))\n",
    "plt.plot(util.smooth(optRatioEnsembleMean_0p1,11))\n",
    "plt.plot(util.smooth(optRatioEnsembleMean_0p01,11))\n",
    "plt.legend(['epsilon = 0','epsilon = 0.1','epsilon = 0.01'])"
   ]
  },
  {
   "cell_type": "markdown",
   "metadata": {},
   "source": [
    "## Observation\n",
    "上图结果与书中的Figure2.2基本是一致的(就相对关系以及变化趋势而言，具体的收敛值有一定差异)。\n",
    "In case of epsilon=0, the convergence value=1.0, is this an inevitable result, for example, can be derived mathematically under the assumption?"
   ]
  },
  {
   "cell_type": "code",
   "execution_count": null,
   "metadata": {},
   "outputs": [],
   "source": []
  }
 ],
 "metadata": {
  "kernelspec": {
   "display_name": "Python 3 (ipykernel)",
   "language": "python",
   "name": "python3"
  },
  "language_info": {
   "codemirror_mode": {
    "name": "ipython",
    "version": 3
   },
   "file_extension": ".py",
   "mimetype": "text/x-python",
   "name": "python",
   "nbconvert_exporter": "python",
   "pygments_lexer": "ipython3",
   "version": "3.8.5"
  }
 },
 "nbformat": 4,
 "nbformat_minor": 2
}
