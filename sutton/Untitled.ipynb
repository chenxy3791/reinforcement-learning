{
 "cells": [
  {
   "cell_type": "code",
   "execution_count": 62,
   "id": "ce689ad1",
   "metadata": {},
   "outputs": [
    {
     "name": "stdout",
     "output_type": "stream",
     "text": [
      "[[0.5 0.5 0.  0.  0. ]\n",
      " [0.5 0.5 0.  0.  0. ]\n",
      " [0.  0.  0.5 0.5 0. ]\n",
      " [0.  0.  0.  0.5 0.5]\n",
      " [0.  0.  0.  0.  0. ]]\n"
     ]
    }
   ],
   "source": [
    "import numpy as np\n",
    "num_st = 5\n",
    "num_action = 5\n",
    "policy = np.zeros((num_st, num_action))\n",
    "policy[0][ :2] = [0.5,0.5]\n",
    "policy[1][ :2] = [0.5,0.5]\n",
    "policy[2][2:4] = [0.5,0.5]\n",
    "policy[3][3: ] = [0.5,0.5]\n",
    "print(policy)"
   ]
  },
  {
   "cell_type": "code",
   "execution_count": 63,
   "id": "64f5ad89",
   "metadata": {},
   "outputs": [
    {
     "data": {
      "text/plain": [
       "[(0, 0, 0)]"
      ]
     },
     "execution_count": 63,
     "metadata": {},
     "output_type": "execute_result"
    }
   ],
   "source": [
    "P = dict()\n",
    "# Initialization to all-zeros for the convenience of later processing\n",
    "for state in range(num_st - 1):\n",
    "    for action in range(num_action):\n",
    "        P[(state,action)] = [(0,0,0)]\n",
    "P[(0, 0) ] = [(0, -1,   1)]\n",
    "P[(0, 1) ] = [(1,  0,   1)]\n",
    "P[(1, 0) ] = [(0, -1,   1)]\n",
    "P[(1, 1) ] = [(2, -2,   1)]\n",
    "P[(2, 2) ] = [(3, -2,   1)]\n",
    "P[(2, 4) ] = [(4,  0,   1)]\n",
    "P[(3, 4) ] = [(4, 10,   1)]\n",
    "P[(3, 3) ] = [(1,  1, 0.2)]\n",
    "P[(3, 3) ].append((2,  1, 0.4))\n",
    "P[(3, 3) ].append((3 , 1, 0.4))\n",
    "P[(0,2)]"
   ]
  },
  {
   "cell_type": "code",
   "execution_count": 64,
   "id": "f54dd820",
   "metadata": {},
   "outputs": [
    {
     "name": "stdout",
     "output_type": "stream",
     "text": [
      "[[ 0.5 -0.5  0.   0.   0. ]\n",
      " [-0.5  1.  -0.5  0.   0. ]\n",
      " [ 0.   0.   1.  -0.5  0. ]\n",
      " [ 0.  -0.1 -0.2  0.8 -0.5]\n",
      " [ 0.   0.   0.   0.   1. ]] [-0.5 -1.5 -1.   5.5  0. ]\n"
     ]
    }
   ],
   "source": [
    "# Construct the system of linear equation AX = b\n",
    "A, b  = np.eye(num_st), np.zeros((num_action))\n",
    "gamma = 1 # Note, this example is an episodic task \n",
    "\n",
    "for state in range(num_st - 1):\n",
    "    for action in range(num_action):\n",
    "        pi = policy[state][action]\n",
    "        for p_item in P[(state,action)]:\n",
    "            #print(state, action, p_item)\n",
    "            b[state] += pi * p_item[1] * p_item[2]\n",
    "            next_st, reward, prob = p_item\n",
    "            A[state][next_st] -= gamma * pi * prob       \n",
    "        \n",
    "print(A,b)        "
   ]
  },
  {
   "cell_type": "code",
   "execution_count": 65,
   "id": "7aa09898",
   "metadata": {},
   "outputs": [
    {
     "name": "stdout",
     "output_type": "stream",
     "text": [
      "[-2.30769231 -1.30769231  2.69230769  7.38461538  0.        ]\n",
      "[[-3.30769231 -1.30769231  0.          0.          0.        ]\n",
      " [-3.30769231  0.69230769  0.          0.          0.        ]\n",
      " [ 0.          0.          5.38461538  0.          0.        ]\n",
      " [ 0.          0.          0.          4.76923077 10.        ]\n",
      " [ 0.          0.          0.          0.          0.        ]]\n"
     ]
    }
   ],
   "source": [
    "v = np.linalg.solve(A, b)\n",
    "q = np.zeros((num_st, num_action))\n",
    "for state in range(num_st - 1):\n",
    "    for action in range(num_action):\n",
    "        for p_item in P[(state,action)]:\n",
    "            #print(state, action, p_item)\n",
    "            next_st, reward, prob = p_item\n",
    "            q[state][action] += prob * (reward + gamma * v[next_st])      \n",
    "print(v)\n",
    "print(q)"
   ]
  },
  {
   "cell_type": "code",
   "execution_count": null,
   "id": "2b90aed5",
   "metadata": {},
   "outputs": [],
   "source": []
  },
  {
   "cell_type": "code",
   "execution_count": 56,
   "id": "8ec37463",
   "metadata": {},
   "outputs": [
    {
     "data": {
      "text/plain": [
       "False"
      ]
     },
     "execution_count": 56,
     "metadata": {},
     "output_type": "execute_result"
    }
   ],
   "source": [
    "import enum\n",
    " \n",
    "# creating enumerations using class\n",
    "# 对于数组下标引用等不方便\n",
    "class Action(enum.Enum):\n",
    "    PLAY    = 0\n",
    "    STUDY   = 1\n",
    "    WRITE   = 2\n",
    "    PUBLISH = 3\n",
    "    SLEEP   = 4\n",
    "    \n",
    "class State(enum.Enum):\n",
    "    PLAY   = 0\n",
    "    STUDY1 = 1\n",
    "    STUDY2 = 2\n",
    "    WRITE  = 3\n",
    "    SLEEP  = 4        \n",
    "    \n",
    "Action.PLAY == 0    "
   ]
  },
  {
   "cell_type": "code",
   "execution_count": 58,
   "id": "ef1447c8",
   "metadata": {},
   "outputs": [
    {
     "data": {
      "text/plain": [
       "'\\nP = dict()\\n\\nP[(State.PLAY, Action.PLAY)   ] = [(State.PLAY,   -1, 1)]\\nP[(State.PLAY, Action.STUDY)  ] = [(State.STUDY1,  0, 1)]\\nP[(State.STUDY1, Action.PLAY) ] = [(State.PLAY,   -1, 1)]\\nP[(State.STUDY1, Action.STUDY)] = [(State.STUDY2, -2, 1)]\\nP[(State.STUDY2, Action.WRITE)] = [(State.WRITE,  -2, 1)]\\nP[(State.STUDY2, Action.SLEEP)] = [(State.SLEEP,   0, 1)]\\nP[(State.WRITE,  Action.SLEEP)] = [(State.SLEEP,  10, 1)]\\nP[(State.WRITE,  Action.PUBLISH)] = [(State.STUDY1, 1,0.2)]\\nP[(State.WRITE,  Action.PUBLISH)] = [(State.STUDY2, 1,0.4)]\\nP[(State.WRITE,  Action.PUBLISH)] = [(State.WRITE , 1,0.4)]\\nP[(0,0)]\\n'"
      ]
     },
     "execution_count": 58,
     "metadata": {},
     "output_type": "execute_result"
    }
   ],
   "source": [
    "'''\n",
    "P = dict()\n",
    "\n",
    "P[(State.PLAY, Action.PLAY)   ] = [(State.PLAY,   -1, 1)]\n",
    "P[(State.PLAY, Action.STUDY)  ] = [(State.STUDY1,  0, 1)]\n",
    "P[(State.STUDY1, Action.PLAY) ] = [(State.PLAY,   -1, 1)]\n",
    "P[(State.STUDY1, Action.STUDY)] = [(State.STUDY2, -2, 1)]\n",
    "P[(State.STUDY2, Action.WRITE)] = [(State.WRITE,  -2, 1)]\n",
    "P[(State.STUDY2, Action.SLEEP)] = [(State.SLEEP,   0, 1)]\n",
    "P[(State.WRITE,  Action.SLEEP)] = [(State.SLEEP,  10, 1)]\n",
    "P[(State.WRITE,  Action.PUBLISH)] = [(State.STUDY1, 1,0.2)]\n",
    "P[(State.WRITE,  Action.PUBLISH)] = [(State.STUDY2, 1,0.4)]\n",
    "P[(State.WRITE,  Action.PUBLISH)] = [(State.WRITE , 1,0.4)]\n",
    "P[(0,0)]\n",
    "'''"
   ]
  }
 ],
 "metadata": {
  "kernelspec": {
   "display_name": "Python 3 (ipykernel)",
   "language": "python",
   "name": "python3"
  },
  "language_info": {
   "codemirror_mode": {
    "name": "ipython",
    "version": 3
   },
   "file_extension": ".py",
   "mimetype": "text/x-python",
   "name": "python",
   "nbconvert_exporter": "python",
   "pygments_lexer": "ipython3",
   "version": "3.8.5"
  }
 },
 "nbformat": 4,
 "nbformat_minor": 5
}
